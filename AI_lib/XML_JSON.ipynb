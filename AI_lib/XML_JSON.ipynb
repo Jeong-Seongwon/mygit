{
 "cells": [
  {
   "cell_type": "markdown",
   "id": "64a3e44a-134f-4b6f-8bb3-9d8eb87e1fbb",
   "metadata": {},
   "source": [
    "# XML , JSON 자료"
   ]
  },
  {
   "cell_type": "markdown",
   "id": "743f3c65-2e8a-497f-a4fb-70885faf1e46",
   "metadata": {},
   "source": [
    "## XML"
   ]
  },
  {
   "cell_type": "markdown",
   "id": "e4375359-7549-4bad-8573-1f9417dbb375",
   "metadata": {},
   "source": [
    "XML(Extensible Markup Language)은 인간이 읽을 수 있고 기계가 해석할 수 있는 구조화된 데이터를 표현하기 위한 마크업 언어\n",
    "\n",
    "데이터를 계층적이고 구조적으로 표현할 수 있도록 하는 간단한 규칙을 제공"
   ]
  },
  {
   "cell_type": "markdown",
   "id": "875a9d18-37fa-4a76-971b-a6e047717e6e",
   "metadata": {},
   "source": [
    "태그(Tags): XML은 데이터를 표현하기 위해 태그를 사용\n",
    "태그는 <element>와 같이 여는 태그와 </element>와 같이 닫는 태그로 이루어짐. \n",
    "태그 사이에는 데이터나 하위 요소가 있음"
   ]
  },
  {
   "cell_type": "code",
   "execution_count": null,
   "id": "55af9260-af6c-4a5a-9b77-01a68493e65b",
   "metadata": {},
   "outputs": [],
   "source": [
    "<person>\n",
    "    <name>John Doe</name>\n",
    "    <age>30</age>\n",
    "</person>\n"
   ]
  },
  {
   "cell_type": "markdown",
   "id": "b7ed9423-69ba-4881-9b5c-acdc218e255d",
   "metadata": {},
   "source": [
    "속성(Attributes): XML 요소는 속성을 가질 수 있음\n",
    "\n",
    "속성은 주로 요소의 추가 정보를 나타내며, 여는 태그 안에 속성=\"값\" 형식으로 정의"
   ]
  },
  {
   "cell_type": "code",
   "execution_count": null,
   "id": "a0d90375-0f9f-47d0-b218-446f48f8195b",
   "metadata": {},
   "outputs": [],
   "source": [
    "<book category=\"fiction\" language=\"en\">\n",
    "    <title>Harry Potter</title>\n",
    "    <author>J.K. Rowling</author>\n",
    "</book>\n"
   ]
  },
  {
   "cell_type": "markdown",
   "id": "0cdafa10-e11a-45f9-a590-ca1661e7e4e1",
   "metadata": {},
   "source": [
    "계층 구조(Nesting): XML 요소는 다른 요소 안에 중첩될 수 있어 계층 구조를 형성\n",
    "\n",
    "데이터의 계층적인 구조를 표현하는 데 유용"
   ]
  },
  {
   "cell_type": "code",
   "execution_count": null,
   "id": "98738301-45fa-4ced-8cf9-951bef8b17dc",
   "metadata": {},
   "outputs": [],
   "source": [
    "<address>\n",
    "    <street>123 Main St</street>\n",
    "    <city>New York</city>\n",
    "</address>\n"
   ]
  },
  {
   "cell_type": "markdown",
   "id": "4fe1852a-3d89-4eb2-9ba4-87ba76d1651f",
   "metadata": {},
   "source": [
    "루트 요소(Root Element): XML 문서는 하나의 루트 요소를 가짐\n",
    "\n",
    "모든 다른 요소들은 이 루트 요소 안에 중첩"
   ]
  },
  {
   "cell_type": "code",
   "execution_count": null,
   "id": "d147c919-cd6d-41e6-aaac-dadd7977cecd",
   "metadata": {},
   "outputs": [],
   "source": [
    "<root>\n",
    "    <!-- 다른 요소들이 여기에 들어갑니다 -->\n",
    "</root>\n"
   ]
  },
  {
   "cell_type": "markdown",
   "id": "74ec0414-c315-40d0-adcb-7547530e4a81",
   "metadata": {},
   "source": [
    "플랫폼 독립적(Platform-Independent)\n",
    "\n",
    "XML은 플랫폼에 독립적이므로 어떤 운영 체제나 프로그래밍 언어에서든 사용할 수 있습니다."
   ]
  },
  {
   "cell_type": "code",
   "execution_count": 4,
   "id": "bb003f88-eefc-4090-a973-98315fe7bd6b",
   "metadata": {
    "tags": []
   },
   "outputs": [
    {
     "name": "stdout",
     "output_type": "stream",
     "text": [
      "Root Tag: library\n",
      "Child Tag: book Child Text: \n",
      "        \n",
      "Child Tag: book Child Text: \n",
      "        \n",
      "Child Tag: magazine Child Text: \n",
      "        \n",
      "Attribute Value: None\n",
      "Nested Element not found\n"
     ]
    }
   ],
   "source": [
    "import xml.etree.ElementTree as ET\n",
    "\n",
    "# XML 문자열 또는 파일로부터 ElementTree 생성\n",
    "tree = ET.parse('sample.xml')  # 파일을 읽어와 파싱\n",
    "# tree = ET.fromstring(xml_string)  # XML 문자열을 파싱\n",
    "\n",
    "# 루트 엘리먼트 얻기\n",
    "root = tree.getroot()\n",
    "\n",
    "# 루트 엘리먼트의 태그 출력\n",
    "print(\"Root Tag:\", root.tag)\n",
    "\n",
    "# 모든 자식 엘리먼트 순회\n",
    "for child in root:\n",
    "    print(\"Child Tag:\", child.tag, \"Child Text:\", child.text)\n",
    "\n",
    "# 특정 엘리먼트의 속성에 접근\n",
    "attribute_value = root.attrib.get('attribute_name')\n",
    "print(\"Attribute Value:\", attribute_value)\n",
    "\n",
    "# XPath를 사용하여 특정 경로의 엘리먼트 얻기\n",
    "element = root.find(\".//nested_element\")\n",
    "if element is not None:\n",
    "    print(\"Nested Element Text:\", element.text)\n",
    "else:\n",
    "    print(\"Nested Element not found\")\n"
   ]
  }
 ],
 "metadata": {
  "kernelspec": {
   "display_name": "Python 3 (ipykernel)",
   "language": "python",
   "name": "python3"
  },
  "language_info": {
   "codemirror_mode": {
    "name": "ipython",
    "version": 3
   },
   "file_extension": ".py",
   "mimetype": "text/x-python",
   "name": "python",
   "nbconvert_exporter": "python",
   "pygments_lexer": "ipython3",
   "version": "3.11.5"
  }
 },
 "nbformat": 4,
 "nbformat_minor": 5
}
