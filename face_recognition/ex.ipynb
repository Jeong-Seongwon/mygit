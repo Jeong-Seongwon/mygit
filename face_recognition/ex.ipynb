{
 "cells": [
  {
   "cell_type": "code",
   "execution_count": null,
   "id": "3f68816c-206e-45af-a8d7-3eee804c02ec",
   "metadata": {},
   "outputs": [],
   "source": []
  },
  {
   "cell_type": "code",
   "execution_count": null,
   "id": "56fb76bb-fb8f-4646-a066-f4d62a888094",
   "metadata": {},
   "outputs": [],
   "source": []
  },
  {
   "cell_type": "code",
   "execution_count": null,
   "id": "f136214c-f8a1-4738-b523-7265bf023692",
   "metadata": {},
   "outputs": [],
   "source": []
  },
  {
   "cell_type": "markdown",
   "id": "946198f2-18f7-495d-a7f1-2bd8d84845b0",
   "metadata": {},
   "source": [
    "Yale faces dataset JPG파일로 변경"
   ]
  },
  {
   "cell_type": "code",
   "execution_count": 3,
   "id": "f37c05cd-b1b2-42d9-bb64-2b38d8990840",
   "metadata": {
    "tags": []
   },
   "outputs": [],
   "source": [
    "import os\n",
    "from PIL import Image\n",
    "\n",
    "\n",
    "data_path = \"./data/archive\"\n",
    "for folder in os.listdir(data_path):\n",
    "    folder_path = os.path.join(data_path, folder)\n",
    "    \n",
    "    image_paths = []\n",
    "    for i, filename in enumerate(os.listdir(folder_path)):\n",
    "        image_path = os.path.join(folder_path, filename)\n",
    "        image_paths.append(image_path)\n",
    "        \n",
    "        image = Image.open(image_path)\n",
    "        \n",
    "        output_image_path = os.path.join(folder_path, folder+\"_\"+str(i+1)+\".jpg\")\n",
    "        image.save(output_image_path)\n",
    "        \n",
    "    for image_path in image_paths:\n",
    "        # 원본 파일 삭제\n",
    "        os.remove(image_path)"
   ]
  }
 ],
 "metadata": {
  "kernelspec": {
   "display_name": "Python 3 (ipykernel)",
   "language": "python",
   "name": "python3"
  },
  "language_info": {
   "codemirror_mode": {
    "name": "ipython",
    "version": 3
   },
   "file_extension": ".py",
   "mimetype": "text/x-python",
   "name": "python",
   "nbconvert_exporter": "python",
   "pygments_lexer": "ipython3",
   "version": "3.11.5"
  }
 },
 "nbformat": 4,
 "nbformat_minor": 5
}
