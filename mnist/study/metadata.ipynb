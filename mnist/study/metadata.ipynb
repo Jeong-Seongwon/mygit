{
 "cells": [
  {
   "cell_type": "code",
   "execution_count": 2,
   "id": "f909cf79-851b-4116-855d-aa0f1d1469d2",
   "metadata": {
    "tags": []
   },
   "outputs": [
    {
     "name": "stdout",
     "output_type": "stream",
     "text": [
      "Requirement already satisfied: Pillow in c:\\users\\602-24\\anaconda3\\lib\\site-packages (9.4.0)\n"
     ]
    }
   ],
   "source": [
    "!pip install Pillow"
   ]
  },
  {
   "cell_type": "markdown",
   "id": "69f26cf3-f155-487d-b24f-113da31600ab",
   "metadata": {},
   "source": [
    "## 이미지 메타데이터 추출"
   ]
  },
  {
   "cell_type": "code",
   "execution_count": 3,
   "id": "6affc142-06a6-455c-a194-ea3c2c9470a5",
   "metadata": {
    "tags": []
   },
   "outputs": [
    {
     "name": "stdout",
     "output_type": "stream",
     "text": [
      "ImageWidth: 2316\n",
      "ImageLength: 1080\n",
      "ExifOffset: 112\n",
      "Software: Android TP1A.220624.014.N986NKSU2HWH9\n",
      "Orientation: 0\n",
      "LightSource: 0\n",
      "SubsecTimeOriginal: 003\n",
      "DateTimeOriginal: 2023:09:12 15:49:36\n",
      "OffsetTimeOriginal: +09:00\n"
     ]
    }
   ],
   "source": [
    "from PIL import Image\n",
    "from PIL.ExifTags import TAGS, GPSTAGS\n",
    "\n",
    "def extract_exif_metadata(image_path):\n",
    "    try:\n",
    "        # 이미지 열기\n",
    "        image = Image.open(image_path)\n",
    "\n",
    "        # EXIF 데이터 추출\n",
    "        exif_data = image._getexif()\n",
    "\n",
    "        if exif_data:\n",
    "            for tag, value in exif_data.items():\n",
    "                tag_name = TAGS.get(tag, tag)\n",
    "                print(f\"{tag_name}: {value}\")\n",
    "\n",
    "    except Exception as e:\n",
    "        print(f\"Error extracting EXIF metadata: {str(e)}\")\n",
    "\n",
    "if __name__ == \"__main__\":\n",
    "    image_path = \"ut.jpg\"  # 이미지 파일 경로를 지정하세요.\n",
    "    extract_exif_metadata(image_path)"
   ]
  }
 ],
 "metadata": {
  "kernelspec": {
   "display_name": "Python 3 (ipykernel)",
   "language": "python",
   "name": "python3"
  },
  "language_info": {
   "codemirror_mode": {
    "name": "ipython",
    "version": 3
   },
   "file_extension": ".py",
   "mimetype": "text/x-python",
   "name": "python",
   "nbconvert_exporter": "python",
   "pygments_lexer": "ipython3",
   "version": "3.11.5"
  }
 },
 "nbformat": 4,
 "nbformat_minor": 5
}
