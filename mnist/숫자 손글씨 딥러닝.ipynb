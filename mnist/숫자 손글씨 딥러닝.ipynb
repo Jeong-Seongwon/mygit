{
 "cells": [
  {
   "cell_type": "markdown",
   "id": "49243ad1-1bf2-4343-8e4d-9b359cc16255",
   "metadata": {
    "tags": []
   },
   "source": [
    "### 1. 서론\n",
    "\n",
    "숫자 손글씨 인식은 기계 학습 및 딥러닝 분야에서 중요한 문제 중 하나입니다.  \n",
    "특히, 이러한 인식 기술은 우편번호 분류, 자동차 번호판 인식, 자동 서명 인증 등 다양한 응용 분야에서 활용됩니다.  \n",
    "본 레포트에서는 손으로 쓴 숫자 이미지를 딥러닝 모델을 사용하여 인식하는 방법을 소개합니다.  \n",
    "이를 위해 MNIST(Mixed National Institute of Standards and Technology) 데이터셋을 사용했습니다."
   ]
  },
  {
   "cell_type": "code",
   "execution_count": 1,
   "id": "07b47c40-a3ed-4653-b609-acbcc773fbd8",
   "metadata": {
    "tags": []
   },
   "outputs": [
    {
     "name": "stdout",
     "output_type": "stream",
     "text": [
      "WARNING:tensorflow:From C:\\Users\\602-24\\anaconda3\\Lib\\site-packages\\keras\\src\\losses.py:2976: The name tf.losses.sparse_softmax_cross_entropy is deprecated. Please use tf.compat.v1.losses.sparse_softmax_cross_entropy instead.\n",
      "\n",
      "x_train.shape=(60000, 28, 28)\n",
      "y_train.shape=(60000,)\n",
      "x_test.shape=(10000, 28, 28)\n",
      "y_test.shape=(10000,)\n"
     ]
    },
    {
     "data": {
      "image/png": "[encoded data removed]",
      "text/plain": [
       "<Figure size 640x480 with 2 Axes>"
      ]
     },
     "metadata": {},
     "output_type": "display_data"
    }
   ],
   "source": [
    "from tensorflow.keras.datasets import mnist\n",
    "import matplotlib.pyplot as plt\n",
    "\n",
    "(x_train, y_train), (x_test, y_test) = mnist.load_data() \n",
    "print(f'x_train.shape={x_train.shape}') \n",
    "print(f'y_train.shape={y_train.shape}') \n",
    "print(f'x_test.shape={x_test.shape}') \n",
    "print(f'y_test.shape={y_test.shape}') \n",
    "\n",
    "plt.figure()\n",
    "plt.imshow(x_train[0], cmap=plt.cm.binary)\n",
    "plt.colorbar()\n",
    "plt.show()"
   ]
  },
  {
   "cell_type": "code",
   "execution_count": 2,
   "id": "531a4b4f-5128-43d6-8d5c-d47047029e4a",
   "metadata": {
    "tags": []
   },
   "outputs": [
    {
     "name": "stdout",
     "output_type": "stream",
     "text": [
      "  0   0   0   0   0   0   0   0   0   0   0   0   0   0   0   0   0   0   0   0   0   0   0   0   0   0   0   0\n",
      "  0   0   0   0   0   0   0   0   0   0   0   0   0   0   0   0   0   0   0   0   0   0   0   0   0   0   0   0\n",
      "  0   0   0   0   0   0   0   0   0   0   0   0   0   0   0   0   0   0   0   0   0   0   0   0   0   0   0   0\n",
      "  0   0   0   0   0   0   0   0   0   0   0   0   0   0   0   0   0   0   0   0   0   0   0   0   0   0   0   0\n",
      "  0   0   0   0   0   0   0   0   0   0   0   0   0   0   0   0   0   0   0   0   0   0   0   0   0   0   0   0\n",
      "  0   0   0   0   0   0   0   0   0   0   0   0   3  18  18  18 126 136 175  26 166 255 247 127   0   0   0   0\n",
      "  0   0   0   0   0   0   0   0  30  36  94 154 170 253 253 253 253 253 225 172 253 242 195  64   0   0   0   0\n",
      "  0   0   0   0   0   0   0  49 238 253 253 253 253 253 253 253 253 251  93  82  82  56  39   0   0   0   0   0\n",
      "  0   0   0   0   0   0   0  18 219 253 253 253 253 253 198 182 247 241   0   0   0   0   0   0   0   0   0   0\n",
      "  0   0   0   0   0   0   0   0  80 156 107 253 253 205  11   0  43 154   0   0   0   0   0   0   0   0   0   0\n",
      "  0   0   0   0   0   0   0   0   0  14   1 154 253  90   0   0   0   0   0   0   0   0   0   0   0   0   0   0\n",
      "  0   0   0   0   0   0   0   0   0   0   0 139 253 190   2   0   0   0   0   0   0   0   0   0   0   0   0   0\n",
      "  0   0   0   0   0   0   0   0   0   0   0  11 190 253  70   0   0   0   0   0   0   0   0   0   0   0   0   0\n",
      "  0   0   0   0   0   0   0   0   0   0   0   0  35 241 225 160 108   1   0   0   0   0   0   0   0   0   0   0\n",
      "  0   0   0   0   0   0   0   0   0   0   0   0   0  81 240 253 253 119  25   0   0   0   0   0   0   0   0   0\n",
      "  0   0   0   0   0   0   0   0   0   0   0   0   0   0  45 186 253 253 150  27   0   0   0   0   0   0   0   0\n",
      "  0   0   0   0   0   0   0   0   0   0   0   0   0   0   0  16  93 252 253 187   0   0   0   0   0   0   0   0\n",
      "  0   0   0   0   0   0   0   0   0   0   0   0   0   0   0   0   0 249 253 249  64   0   0   0   0   0   0   0\n",
      "  0   0   0   0   0   0   0   0   0   0   0   0   0   0  46 130 183 253 253 207   2   0   0   0   0   0   0   0\n",
      "  0   0   0   0   0   0   0   0   0   0   0   0  39 148 229 253 253 253 250 182   0   0   0   0   0   0   0   0\n",
      "  0   0   0   0   0   0   0   0   0   0  24 114 221 253 253 253 253 201  78   0   0   0   0   0   0   0   0   0\n",
      "  0   0   0   0   0   0   0   0  23  66 213 253 253 253 253 198  81   2   0   0   0   0   0   0   0   0   0   0\n",
      "  0   0   0   0   0   0  18 171 219 253 253 253 253 195  80   9   0   0   0   0   0   0   0   0   0   0   0   0\n",
      "  0   0   0   0  55 172 226 253 253 253 253 244 133  11   0   0   0   0   0   0   0   0   0   0   0   0   0   0\n",
      "  0   0   0   0 136 253 253 253 212 135 132  16   0   0   0   0   0   0   0   0   0   0   0   0   0   0   0   0\n",
      "  0   0   0   0   0   0   0   0   0   0   0   0   0   0   0   0   0   0   0   0   0   0   0   0   0   0   0   0\n",
      "  0   0   0   0   0   0   0   0   0   0   0   0   0   0   0   0   0   0   0   0   0   0   0   0   0   0   0   0\n",
      "  0   0   0   0   0   0   0   0   0   0   0   0   0   0   0   0   0   0   0   0   0   0   0   0   0   0   0   0\n"
     ]
    }
   ],
   "source": [
    "for row in x_train[0]:\n",
    "    print(' '.join(['{:3}'.format(pixel) for pixel in row]))"
   ]
  },
  {
   "cell_type": "markdown",
   "id": "7048b0d3-018e-4b5b-99e6-ea2d6c4f78f2",
   "metadata": {},
   "source": [
    "### 2. 모델 설계 및 학습\n",
    "\n",
    "인공 신경망(MLP, Multi-Layer Perceptron)과 Convolutional Neural Network (CNN) 모델을 설계하여 숫자 이미지를 인식합니다.  \n",
    "데이터를 학습 세트와 검증 세트로 나누고, 모델을 컴파일하여 손실 함수와 최적화 알고리즘을 설정합니다.  \n",
    "모델을 학습하고 정확도를 평가합니다.  \n",
    "CNN 모델의 정확도가 더 높아 앞으로 이 모델을 사용합니다.  \n",
    "이 모델은 입력층, 합성곱층, 풀링층, 완전 연결층, 출력층으로 구성되어 있습니다.  "
   ]
  },
  {
   "cell_type": "code",
   "execution_count": 3,
   "id": "962759f6-3ad7-4e73-a284-48995dba23cc",
   "metadata": {
    "tags": []
   },
   "outputs": [
    {
     "name": "stdout",
     "output_type": "stream",
     "text": [
      "WARNING:tensorflow:From C:\\Users\\602-24\\anaconda3\\Lib\\site-packages\\keras\\src\\backend.py:873: The name tf.get_default_graph is deprecated. Please use tf.compat.v1.get_default_graph instead.\n",
      "\n",
      "WARNING:tensorflow:From C:\\Users\\602-24\\anaconda3\\Lib\\site-packages\\keras\\src\\optimizers\\__init__.py:309: The name tf.train.Optimizer is deprecated. Please use tf.compat.v1.train.Optimizer instead.\n",
      "\n",
      "Epoch 1/5\n",
      "WARNING:tensorflow:From C:\\Users\\602-24\\anaconda3\\Lib\\site-packages\\keras\\src\\utils\\tf_utils.py:492: The name tf.ragged.RaggedTensorValue is deprecated. Please use tf.compat.v1.ragged.RaggedTensorValue instead.\n",
      "\n",
      "WARNING:tensorflow:From C:\\Users\\602-24\\anaconda3\\Lib\\site-packages\\keras\\src\\engine\\base_layer_utils.py:384: The name tf.executing_eagerly_outside_functions is deprecated. Please use tf.compat.v1.executing_eagerly_outside_functions instead.\n",
      "\n",
      "1875/1875 [==============================] - 3s 1ms/step - loss: 0.3019 - accuracy: 0.9118\n",
      "Epoch 2/5\n",
      "1875/1875 [==============================] - 2s 1ms/step - loss: 0.1454 - accuracy: 0.9564\n",
      "Epoch 3/5\n",
      "1875/1875 [==============================] - 2s 1ms/step - loss: 0.1096 - accuracy: 0.9669\n",
      "Epoch 4/5\n",
      "1875/1875 [==============================] - 2s 1ms/step - loss: 0.0892 - accuracy: 0.9733\n",
      "Epoch 5/5\n",
      "1875/1875 [==============================] - 2s 1ms/step - loss: 0.0735 - accuracy: 0.9769\n",
      "313/313 [==============================] - 0s 929us/step - loss: 0.0745 - accuracy: 0.9779\n"
     ]
    },
    {
     "data": {
      "text/plain": [
       "[0.07451228052377701, 0.9779000282287598]"
      ]
     },
     "execution_count": 3,
     "metadata": {},
     "output_type": "execute_result"
    }
   ],
   "source": [
    "import tensorflow as tf\n",
    "mnist = tf.keras.datasets.mnist\n",
    "\n",
    "(x_train, y_train),(x_test, y_test) = mnist.load_data()\n",
    "x_train, x_test = x_train / 255.0, x_test / 255.0\n",
    "\n",
    "model = tf.keras.models.Sequential([\n",
    "  tf.keras.layers.Flatten(input_shape=(28, 28)),\n",
    "  tf.keras.layers.Dense(128, activation='relu'),\n",
    "  tf.keras.layers.Dropout(0.2),\n",
    "  tf.keras.layers.Dense(10, activation='softmax')\n",
    "])\n",
    "\n",
    "model.compile(optimizer='adam',\n",
    "  loss='sparse_categorical_crossentropy',\n",
    "  metrics=['accuracy'])\n",
    "\n",
    "model.fit(x_train, y_train, epochs=5)\n",
    "model.evaluate(x_test, y_test)"
   ]
  },
  {
   "cell_type": "code",
   "execution_count": 4,
   "id": "e77c48b1-1bcc-4471-879e-3e62c6a7b9fd",
   "metadata": {
    "tags": []
   },
   "outputs": [
    {
     "name": "stdout",
     "output_type": "stream",
     "text": [
      "WARNING:tensorflow:From C:\\Users\\602-24\\anaconda3\\Lib\\site-packages\\keras\\src\\layers\\pooling\\max_pooling2d.py:161: The name tf.nn.max_pool is deprecated. Please use tf.nn.max_pool2d instead.\n",
      "\n",
      "Epoch 1/5\n",
      "1875/1875 [==============================] - 9s 5ms/step - loss: 0.1390 - accuracy: 0.9575 - val_loss: 0.0518 - val_accuracy: 0.9828\n",
      "Epoch 2/5\n",
      "1875/1875 [==============================] - 8s 4ms/step - loss: 0.0488 - accuracy: 0.9850 - val_loss: 0.0273 - val_accuracy: 0.9898\n",
      "Epoch 3/5\n",
      "1875/1875 [==============================] - 8s 4ms/step - loss: 0.0346 - accuracy: 0.9892 - val_loss: 0.0299 - val_accuracy: 0.9896\n",
      "Epoch 4/5\n",
      "1875/1875 [==============================] - 8s 4ms/step - loss: 0.0269 - accuracy: 0.9919 - val_loss: 0.0312 - val_accuracy: 0.9909\n",
      "Epoch 5/5\n",
      "1875/1875 [==============================] - 9s 5ms/step - loss: 0.0215 - accuracy: 0.9934 - val_loss: 0.0238 - val_accuracy: 0.9923\n",
      "313/313 [==============================] - 1s 2ms/step - loss: 0.0238 - accuracy: 0.9923\n"
     ]
    },
    {
     "data": {
      "text/plain": [
       "[0.023834314197301865, 0.9922999739646912]"
      ]
     },
     "execution_count": 4,
     "metadata": {},
     "output_type": "execute_result"
    }
   ],
   "source": [
    "import tensorflow as tf\n",
    "from tensorflow.keras import layers, models\n",
    "# 데이터 로드 및 전처리\n",
    "mnist = tf.keras.datasets.mnist\n",
    "(x_train, y_train), (x_test, y_test) = mnist.load_data()\n",
    "x_train, x_test = x_train[..., tf.newaxis]/255.0, x_test[..., tf.newaxis]/255.0\n",
    "\n",
    "# CNN 모델 정의\n",
    "model = models.Sequential([\n",
    "    layers.Conv2D(32, (3, 3), activation='relu', input_shape=(28, 28, 1)),\n",
    "    layers.MaxPooling2D((2, 2)),\n",
    "    layers.Conv2D(64, (3, 3), activation='relu'),\n",
    "    layers.MaxPooling2D((2, 2)),\n",
    "    layers.Flatten(),\n",
    "    layers.Dense(128, activation='relu'),\n",
    "    layers.Dropout(0.23), \n",
    "    layers.Dense(10, activation='softmax')\n",
    "])\n",
    "\n",
    "# 모델 컴파일\n",
    "model.compile(optimizer='adam',\n",
    "              loss='sparse_categorical_crossentropy',\n",
    "              metrics=['accuracy'])\n",
    "\n",
    "# 모델 훈련\n",
    "model.fit(x_train, y_train, epochs=5, validation_data=(x_test, y_test))\n",
    "\n",
    "# 모델 평가\n",
    "model.evaluate(x_test, y_test)\n"
   ]
  },
  {
   "cell_type": "code",
   "execution_count": 5,
   "id": "73d55f9c-dd54-4777-8f1a-98bf3845b07d",
   "metadata": {
    "tags": []
   },
   "outputs": [
    {
     "name": "stdout",
     "output_type": "stream",
     "text": [
      "Model: \"sequential_1\"\n",
      "_________________________________________________________________\n",
      " Layer (type)                Output Shape              Param #   \n",
      "=================================================================\n",
      " conv2d (Conv2D)             (None, 26, 26, 32)        320       \n",
      "                                                                 \n",
      " max_pooling2d (MaxPooling2  (None, 13, 13, 32)        0         \n",
      " D)                                                              \n",
      "                                                                 \n",
      " conv2d_1 (Conv2D)           (None, 11, 11, 64)        18496     \n",
      "                                                                 \n",
      " max_pooling2d_1 (MaxPoolin  (None, 5, 5, 64)          0         \n",
      " g2D)                                                            \n",
      "                                                                 \n",
      " flatten_1 (Flatten)         (None, 1600)              0         \n",
      "                                                                 \n",
      " dense_2 (Dense)             (None, 128)               204928    \n",
      "                                                                 \n",
      " dropout_1 (Dropout)         (None, 128)               0         \n",
      "                                                                 \n",
      " dense_3 (Dense)             (None, 10)                1290      \n",
      "                                                                 \n",
      "=================================================================\n",
      "Total params: 225034 (879.04 KB)\n",
      "Trainable params: 225034 (879.04 KB)\n",
      "Non-trainable params: 0 (0.00 Byte)\n",
      "_________________________________________________________________\n"
     ]
    }
   ],
   "source": [
    "model.summary()"
   ]
  },
  {
   "cell_type": "code",
   "execution_count": 25,
   "id": "47352c36-1c89-4388-9214-70998d6797cd",
   "metadata": {
    "tags": []
   },
   "outputs": [
    {
     "name": "stdout",
     "output_type": "stream",
     "text": [
      "313/313 [==============================] - 1s 2ms/step\n"
     ]
    },
    {
     "data": {
      "image/png": "[encoded data removed]",
      "text/plain": [
       "<Figure size 600x300 with 2 Axes>"
      ]
     },
     "metadata": {},
     "output_type": "display_data"
    }
   ],
   "source": [
    "import numpy as np\n",
    "import matplotlib.pyplot as plt\n",
    "\n",
    "predicted_data_num = 6572\n",
    "predictions = model.predict(x_test)\n",
    "\n",
    "plt.figure(figsize=(6,3))\n",
    "\n",
    "plt.subplot(1,2,1)\n",
    "plt.imshow(x_test[predicted_data_num], cmap=plt.cm.binary)\n",
    "\n",
    "plt.subplot(1,2,2)\n",
    "plt.xticks(range(10))\n",
    "plt.yticks(np.arange(0, 1.1, 0.1))\n",
    "thisplot = plt.bar(range(10), predictions[predicted_data_num], color=\"#777777\")\n",
    "plt.ylim([0, 1])\n",
    "\n",
    "predicted_label = np.argmax(predictions[predicted_data_num])\n",
    "thisplot[predicted_label].set_color('red')\n",
    "\n",
    "plt.show()"
   ]
  },
  {
   "cell_type": "markdown",
   "id": "4b39970a-eab3-40d5-8cf4-f1aa6c6b24a4",
   "metadata": {},
   "source": [
    "6572번째 데이터를 가져왔습니다.  \n",
    "각 특성별 확률 그래프를 만들고 가장 높은 확률의 특성값으로 예측합니다."
   ]
  },
  {
   "cell_type": "code",
   "execution_count": 26,
   "id": "48942900-6545-4b87-a1a0-6c77b750aa7c",
   "metadata": {
    "tags": []
   },
   "outputs": [
    {
     "name": "stdout",
     "output_type": "stream",
     "text": [
      "313/313 [==============================] - 1s 2ms/step\n"
     ]
    },
    {
     "data": {
      "image/png": "[encoded data removed]",
      "text/plain": [
       "<Figure size 1200x800 with 16 Axes>"
      ]
     },
     "metadata": {},
     "output_type": "display_data"
    }
   ],
   "source": [
    "import random\n",
    "\n",
    "predicted_result = model.predict(x_test)\n",
    "predicted_labels = np.argmax(predicted_result, axis=1)\n",
    "\n",
    "test_labels = y_test\n",
    "\n",
    "wrong_result = []\n",
    "\n",
    "for n in range(0, len(test_labels)):\n",
    "    if predicted_labels[n] != test_labels[n]:\n",
    "        wrong_result.append(n)\n",
    "\n",
    "samples = random.choices(population=wrong_result, k=16)\n",
    "\n",
    "count = 0\n",
    "nrows = ncols = 4\n",
    "\n",
    "plt.figure(figsize=(12,8))\n",
    "\n",
    "for n in samples:\n",
    "    count += 1\n",
    "    plt.subplot(nrows, ncols, count)\n",
    "    plt.imshow(x_test[n].reshape(28, 28), cmap='Greys', interpolation='nearest')\n",
    "    tmp = \"Label:\" + str(test_labels[n]) + \", Prediction:\" + str(predicted_labels[n])\n",
    "    plt.title(tmp)\n",
    "\n",
    "plt.tight_layout()\n",
    "plt.show()"
   ]
  },
  {
   "cell_type": "markdown",
   "id": "6daacd97-4fe7-4d76-8314-8aebb2622742",
   "metadata": {},
   "source": [
    "학습에 실패한 데이터 중 랜덤하게 16개 뽑아서 확인해 본 결과입니다.  \n",
    "사람의 눈으로도 제대로 인식하기 어려운 데이터도 보입니다."
   ]
  },
  {
   "cell_type": "markdown",
   "id": "b05726db-e6b0-4e38-b5b8-733e03c2efd9",
   "metadata": {},
   "source": [
    "### 3. 예측 프로그램 작성\n",
    "\n",
    "학습된 모델을 사용하여 프로그램을 작성했습니다.  \n",
    "Canvas에 숫자를 손글씨로 쓰면 이미지를 학습된 모델을 통해 예측한 결과를 나타냅니다.  \n",
    "가장 높은 확률을 갖는 클래스의 인덱스를 가져와 예측 결과를 출력합니다."
   ]
  },
  {
   "cell_type": "code",
   "execution_count": 7,
   "id": "33e35373-883e-416b-8150-6f032333e479",
   "metadata": {
    "tags": []
   },
   "outputs": [],
   "source": [
    "from PIL import ImageGrab, ImageTk, Image\n",
    "import tkinter as tk\n",
    "import io\n",
    "import numpy as np\n",
    "\n",
    "def draw(event):\n",
    "    x, y = event.x, event.y\n",
    "    draw_area.create_oval(x, y, x+20, y+20, fill=\"black\") # 붓 크기, 색\n",
    "\n",
    "def convert_to_array():\n",
    "    # 캔버스 이미지를 스크린샷으로 찍기\n",
    "    screenshot = ImageGrab.grab(bbox=(draw_area.winfo_rootx(), draw_area.winfo_rooty(), \n",
    "                                     draw_area.winfo_rootx() + draw_area.winfo_width(), \n",
    "                                     draw_area.winfo_rooty() + draw_area.winfo_height()))\n",
    "    # 이미지 크기를 28x28로 조정\n",
    "    screenshot = screenshot.resize((28, 28), Image.LANCZOS)\n",
    "    # 이미지를 흑백으로 변환하여 배열로 변환\n",
    "    image_array = np.array(screenshot.convert('L'))\n",
    "    # 이미지 반전\n",
    "    image_array = 255 - image_array\n",
    "    return image_array\n",
    "\n",
    "def predict_digit():\n",
    "    image_array = convert_to_array()\n",
    "    normalized_image = image_array / 255.0\n",
    "    \n",
    "    # 이미지를 Tkinter 창에 표시\n",
    "    img = Image.fromarray(image_array.astype(np.uint8))\n",
    "    img = img.resize((image_array.shape[1]*10, image_array.shape[0]*10))\n",
    "    img = ImageTk.PhotoImage(img)\n",
    "    image_label.img = img\n",
    "    image_label.config(image=img)\n",
    "    \n",
    "    # CNN 모델에서 예측을 위해 4차원 배열로 변경 (배치 크기 1 추가)\n",
    "    input_image = np.expand_dims(normalized_image, axis=(0, -1))\n",
    "\n",
    "    # 모델을 사용하여 예측\n",
    "    prediction = model.predict(input_image)\n",
    "    \n",
    "    # 가장 높은 확률을 갖는 클래스의 인덱스 가져오기\n",
    "    predicted_class_index = np.argmax(prediction)\n",
    "\n",
    "    # 예측 결과 출력\n",
    "    text_label.config(text=f\"Predicted class: {predicted_class_index}\")\n",
    "    \n",
    "    \n",
    "def clear():\n",
    "    draw_area.delete(\"all\")\n",
    "\n",
    "\n",
    "root = tk.Tk()\n",
    "root.title(\"Handwritten Digit Recognition\")\n",
    "\n",
    "canvas_width = 280\n",
    "canvas_height = 280\n",
    "\n",
    "draw_area = tk.Canvas(root, width=canvas_width, height=canvas_height, bg=\"white\")\n",
    "draw_area.grid(row=0, column=0, padx=10, pady=10, columnspan=2)\n",
    "\n",
    "draw_area.bind(\"<B1-Motion>\", draw)\n",
    "\n",
    "image_label = tk.Label(root, image=None)\n",
    "image_label.grid(row=0, column=2, padx=10, pady=10)\n",
    "\n",
    "text_label = tk.Label(root, text=\"\")\n",
    "text_label.grid(row=1, column=2, padx=10, pady=10)\n",
    "\n",
    "predict_button = tk.Button(root, text=\"Predict Digit\", command=predict_digit)\n",
    "predict_button.grid(row=1, column=0, padx=10, pady=10, sticky=\"e\")\n",
    "\n",
    "clear_button = tk.Button(root, text=\"Clear\", command=clear)\n",
    "clear_button.grid(row=1, column=1, padx=10, pady=10, sticky=\"w\")\n",
    "\n",
    "root.mainloop()\n"
   ]
  },
  {
   "cell_type": "markdown",
   "id": "74cf4a96-f8d2-4059-9523-189f1901c884",
   "metadata": {},
   "source": [
    "![숫자손글씨](숫자손글씨.png)"
   ]
  },
  {
   "cell_type": "code",
   "execution_count": 8,
   "id": "b564ea12-473e-4506-9715-48224e44055d",
   "metadata": {
    "tags": []
   },
   "outputs": [],
   "source": [
    "from matplotlib.backends.backend_tkagg import FigureCanvasTkAgg\n",
    "\n",
    "def predict_digit():\n",
    "    image_array = convert_to_array()\n",
    "    normalized_image = image_array / 255.0\n",
    "    \n",
    "    # CNN 모델에서 예측을 위해 4차원 배열로 변경 (배치 크기 1 추가)\n",
    "    input_image = np.expand_dims(normalized_image, axis=(0, -1))\n",
    "\n",
    "    # 모델을 사용하여 예측\n",
    "    prediction = model.predict(input_image)\n",
    "    \n",
    "    # 가장 높은 확률을 갖는 클래스의 인덱스 가져오기\n",
    "    predicted_class_index = np.argmax(prediction)\n",
    "\n",
    "    # 예측 결과 출력\n",
    "    text_label.config(text=f\"Predicted class: {predicted_class_index}\")\n",
    "    \n",
    "    # 예측 시각화\n",
    "    plt.clf()  # 현재 그래프 지우기\n",
    "    \n",
    "    fig, axs = plt.subplots(1, 2, figsize=(6, 3))\n",
    "\n",
    "    axs[0].imshow(image_array, cmap=plt.cm.binary)\n",
    "    axs[0].set_title('Input Image')\n",
    "\n",
    "    axs[1].bar(range(10), prediction[0], color=\"#777777\")\n",
    "    axs[1].set_xticks(range(10))\n",
    "    axs[1].set_yticks(np.arange(0, 1.1, 0.1))\n",
    "    axs[1].set_ylim([0, 1])\n",
    "    axs[1].set_title('Prediction')\n",
    "\n",
    "    axs[1].bar(predicted_class_index, prediction[0, predicted_class_index], color='red')\n",
    "\n",
    "    # Matplotlib 그래프를 Tkinter 창에 표시\n",
    "    canvas = FigureCanvasTkAgg(fig, master=root)\n",
    "    canvas_widget = canvas.get_tk_widget()\n",
    "    canvas_widget.grid(row=0, column=2, padx=10, pady=10)\n",
    "\n",
    "    # 그래프 업데이트\n",
    "    canvas.draw()\n",
    "\n",
    "def draw(event):\n",
    "    x, y = event.x, event.y\n",
    "    draw_area.create_oval(x, y, x+20, y+20, fill=\"black\") # 붓 크기, 색\n",
    "    \n",
    "def convert_to_array():\n",
    "    # 캔버스 이미지를 스크린샷으로 찍기\n",
    "    screenshot = ImageGrab.grab(bbox=(draw_area.winfo_rootx(), draw_area.winfo_rooty(), \n",
    "                                     draw_area.winfo_rootx() + draw_area.winfo_width(), \n",
    "                                     draw_area.winfo_rooty() + draw_area.winfo_height()))\n",
    "    # 이미지 크기를 28x28로 조정\n",
    "    screenshot = screenshot.resize((28, 28), Image.LANCZOS)\n",
    "    # 이미지를 흑백으로 변환하여 배열로 변환\n",
    "    image_array = np.array(screenshot.convert('L'))\n",
    "    # 이미지 반전\n",
    "    image_array = 255 - image_array\n",
    "    return image_array\n",
    "    \n",
    "def clear():\n",
    "    draw_area.delete(\"all\")\n",
    "    \n",
    "def close_window():\n",
    "    plt.close()  # Matplotlib 창 닫기\n",
    "    if root:\n",
    "        root.destroy()  # GUI 창 닫기\n",
    "\n",
    "    \n",
    "root = tk.Tk()\n",
    "root.title(\"Handwritten Digit Recognition\")\n",
    "\n",
    "canvas_width = 280\n",
    "canvas_height = 280\n",
    "\n",
    "draw_area = tk.Canvas(root, width=canvas_width, height=canvas_height, bg=\"white\")\n",
    "draw_area.grid(row=0, column=0, padx=10, pady=10, columnspan=2)\n",
    "\n",
    "draw_area.bind(\"<B1-Motion>\", draw)\n",
    "\n",
    "text_label = tk.Label(root, text=\"\")\n",
    "text_label.grid(row=1, column=2, padx=10, pady=10)\n",
    "\n",
    "predict_button = tk.Button(root, text=\"Predict Digit\", command=predict_digit)\n",
    "predict_button.grid(row=1, column=0, padx=10, pady=10, sticky=\"e\")\n",
    "\n",
    "clear_button = tk.Button(root, text=\"Clear\", command=clear)\n",
    "clear_button.grid(row=1, column=1, padx=10, pady=10, sticky=\"w\")\n",
    "\n",
    "# GUI 창이 닫힐 때 호출될 함수 지정\n",
    "root.protocol(\"WM_DELETE_WINDOW\", close_window)\n",
    "\n",
    "root.mainloop()\n"
   ]
  },
  {
   "cell_type": "markdown",
   "id": "f92d3bb9-8776-43c7-9211-c034d26fbe0b",
   "metadata": {},
   "source": [
    "![손글씨그래프](손글씨그래프.png)"
   ]
  },
  {
   "cell_type": "code",
   "execution_count": 9,
   "id": "3e814a65-55d7-43c1-96cf-45b9fcd893ef",
   "metadata": {
    "tags": []
   },
   "outputs": [],
   "source": [
    "import tkinter as tk\n",
    "from tkinter import Text, END\n",
    "import numpy as np\n",
    "import time\n",
    "\n",
    "drawing = False  # 마우스 버튼을 누를 때 그리기가 시작됨을 나타내는 변수\n",
    "drawn_coords = []  # 사용자가 그린 좌표를 저장하는 변수\n",
    "recognition_timer = None  # 숫자 인식을 위한 타이머 변수\n",
    "\n",
    "def draw(event):\n",
    "    global drawing, drawn_coords, recognition_timer\n",
    "    if drawing:  # drawing이 True일 때만 그리기 작업 수행\n",
    "        x, y = event.x, event.y\n",
    "        draw_area.create_oval(x, y, x+20, y+20, fill=\"black\") # 붓 크기, 색\n",
    "        drawn_coords.append((x, y))  # 그려진 좌표 저장\n",
    "        if recognition_timer:  # 인식 타이머가 있다면\n",
    "            root.after_cancel(recognition_timer)  # 타이머를 취소하고\n",
    "            recognition_timer = None  # 타이머 변수 초기화\n",
    "\n",
    "def start_drawing(event):\n",
    "    global drawing, drawn_coords, recognition_timer\n",
    "    drawing = True\n",
    "    drawn_coords = []  # 그림을 새로 그릴 때마다 drawn_coords 초기화\n",
    "    if recognition_timer:  # 인식 타이머가 있다면\n",
    "        root.after_cancel(recognition_timer)  # 타이머를 취소하고\n",
    "        recognition_timer = None  # 타이머 변수 초기화\n",
    "\n",
    "def stop_drawing(event):\n",
    "    global drawing, recognition_timer\n",
    "    drawing = False\n",
    "    if not recognition_timer:  # 인식 타이머가 없다면\n",
    "        recognition_timer = root.after(1000, recognize_and_predict)  # 1초 후에 숫자를 인식하도록 호출\n",
    "\n",
    "def recognize_and_predict():\n",
    "    global recognition_timer\n",
    "    if not drawn_coords:\n",
    "        return  # 그림이 없을 경우 인식하지 않음\n",
    "    image_array = convert_to_array()\n",
    "    normalized_image = image_array / 255.0\n",
    "    # CNN 모델에서 예측을 위해 4차원 배열로 변경 (배치 크기 1 추가)\n",
    "    input_image = np.expand_dims(normalized_image, axis=(0, -1))\n",
    "    recognized_digit = recognize_digit(input_image)\n",
    "    result_text.insert(END, recognized_digit)\n",
    "    clear_canvas()\n",
    "    recognition_timer = None  # 숫자가 인식된 후에는 타이머 변수 초기화\n",
    "\n",
    "def recognize_digit(input_image):\n",
    "    # 모델을 사용하여 예측\n",
    "    prediction = model.predict(input_image)\n",
    "    \n",
    "    # 가장 높은 확률을 갖는 클래스의 인덱스 가져오기\n",
    "    predicted_class_index = np.argmax(prediction)\n",
    "    return predicted_class_index  # 인식된 숫자를 반환하는 대신에 임시 문자 \"X\"를 반환합니다.\n",
    "\n",
    "def convert_to_array():\n",
    "    # 캔버스 이미지를 스크린샷으로 찍기\n",
    "    screenshot = ImageGrab.grab(bbox=(draw_area.winfo_rootx(), draw_area.winfo_rooty(), \n",
    "                                     draw_area.winfo_rootx() + draw_area.winfo_width(), \n",
    "                                     draw_area.winfo_rooty() + draw_area.winfo_height()))\n",
    "    # 이미지 크기를 28x28로 조정\n",
    "    screenshot = screenshot.resize((28, 28), Image.LANCZOS)\n",
    "    # 이미지를 흑백으로 변환하여 배열로 변환\n",
    "    image_array = np.array(screenshot.convert('L'))\n",
    "    # 이미지 반전\n",
    "    image_array = 255 - image_array\n",
    "    return image_array\n",
    "\n",
    "def clear_canvas():\n",
    "    draw_area.delete(\"all\")  # 캔버스를 초기화합니다.\n",
    "    \n",
    "    \n",
    "root = tk.Tk()\n",
    "root.title(\"Handwritten Digit Recognition\")\n",
    "\n",
    "canvas_width = 280\n",
    "canvas_height = 280\n",
    "\n",
    "draw_area = tk.Canvas(root, width=canvas_width, height=canvas_height, bg=\"white\")\n",
    "draw_area.grid(row=1, column=0, padx=10, pady=10)\n",
    "\n",
    "draw_area.bind(\"<Button-1>\", start_drawing)\n",
    "draw_area.bind(\"<B1-Motion>\", draw)\n",
    "draw_area.bind(\"<ButtonRelease-1>\", stop_drawing)\n",
    "\n",
    "result_text = Text(root, height=2, width=30)\n",
    "result_text.grid(row=0, column=0, padx=10, pady=10)\n",
    "\n",
    "root.mainloop()\n"
   ]
  },
  {
   "cell_type": "markdown",
   "id": "4e147058-41f7-4b20-ad6f-ed29f1531d41",
   "metadata": {},
   "source": [
    "![숫자입력1](숫자입력1.png)\n",
    "![숫자입력2](숫자입력2.png)\n",
    "![숫자입력3](숫자입력3.png)"
   ]
  },
  {
   "cell_type": "markdown",
   "id": "e2a8ca8e-a781-4950-9ac9-c7577613263b",
   "metadata": {},
   "source": [
    "### 5. 결과 및 결론\n",
    "\n",
    "학습된 모델의 성능을 평가한 결과, 약 99%의 정확도를 달성했습니다.  \n",
    "이는 MNIST 데이터셋에 대해 우수한 성능을 나타냅니다.  \n",
    "그러나, 새로운 손글씨 인식에서 다소 아쉬운 성능입니다.  \n",
    "앞으로 더 큰 데이터셋과 더 복잡한 모델을 사용하여 성능을 향상시킬 수 있습니다."
   ]
  }
 ],
 "metadata": {
  "kernelspec": {
   "display_name": "Python 3 (ipykernel)",
   "language": "python",
   "name": "python3"
  },
  "language_info": {
   "codemirror_mode": {
    "name": "ipython",
    "version": 3
   },
   "file_extension": ".py",
   "mimetype": "text/x-python",
   "name": "python",
   "nbconvert_exporter": "python",
   "pygments_lexer": "ipython3",
   "version": "3.11.5"
  }
 },
 "nbformat": 4,
 "nbformat_minor": 5
}
