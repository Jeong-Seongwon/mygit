{
 "cells": [
  {
   "cell_type": "markdown",
   "id": "49243ad1-1bf2-4343-8e4d-9b359cc16255",
   "metadata": {
    "tags": []
   },
   "source": [
    "### 1. 서론\n",
    "\n",
    "숫자 손글씨 인식은 기계 학습 및 딥러닝 분야에서 중요한 문제 중 하나입니다.  \n",
    "특히, 이러한 인식 기술은 우편번호 분류, 자동차 번호판 인식, 자동 서명 인증 등 다양한 응용 분야에서 활용됩니다.  \n",
    "본 레포트에서는 손으로 쓴 숫자 이미지를 딥러닝 모델을 사용하여 인식하는 방법을 소개합니다.  \n",
    "이를 위해 MNIST(Mixed National Institute of Standards and Technology) 데이터셋을 사용했습니다."
   ]
  },
  {
   "cell_type": "code",
   "execution_count": 61,
   "id": "07b47c40-a3ed-4653-b609-acbcc773fbd8",
   "metadata": {
    "tags": []
   },
   "outputs": [
    {
     "name": "stdout",
     "output_type": "stream",
     "text": [
      "x_train.shape=(60000, 28, 28)\n",
      "y_train.shape=(60000,)\n",
      "x_test.shape=(10000, 28, 28)\n",
      "y_test.shape=(10000,)\n"
     ]
    },
    {
     "data": {
      "image/png": "[encoded data removed]",
      "text/plain": [
       "<Figure size 640x480 with 2 Axes>"
      ]
     },
     "metadata": {},
     "output_type": "display_data"
    }
   ],
   "source": [
    "from tensorflow.keras.datasets import mnist\n",
    "import matplotlib.pyplot as plt\n",
    "\n",
    "(x_train, y_train), (x_test, y_test) = mnist.load_data() \n",
    "print(f'x_train.shape={x_train.shape}') \n",
    "print(f'y_train.shape={y_train.shape}') \n",
    "print(f'x_test.shape={x_test.shape}') \n",
    "print(f'y_test.shape={y_test.shape}') \n",
    "\n",
    "\n",
    "\n",
    "plt.figure()\n",
    "plt.imshow(x_train[0], cmap=plt.cm.binary)\n",
    "plt.colorbar()\n",
    "plt.show()"
   ]
  },
  {
   "cell_type": "markdown",
   "id": "7048b0d3-018e-4b5b-99e6-ea2d6c4f78f2",
   "metadata": {},
   "source": [
    "### 2. 모델 설계 및 학습\n",
    "\n",
    "인공 신경망(MLP, Multi-Layer Perceptron)과 Convolutional Neural Network (CNN) 모델을 설계하여 숫자 이미지를 인식합니다.  \n",
    "데이터를 학습 세트와 검증 세트로 나누고, 모델을 컴파일하여 손실 함수와 최적화 알고리즘을 설정합니다.  \n",
    "모델을 학습하고 정확도를 평가합니다.  \n",
    "CNN 모델의 정확도가 더 높아 앞으로 이 모델을 사용합니다.  \n",
    "이 모델은 입력층, 합성곱층, 풀링층, 완전 연결층, 출력층으로 구성되어 있습니다.  "
   ]
  },
  {
   "cell_type": "code",
   "execution_count": 2,
   "id": "962759f6-3ad7-4e73-a284-48995dba23cc",
   "metadata": {
    "tags": []
   },
   "outputs": [
    {
     "name": "stdout",
     "output_type": "stream",
     "text": [
      "Epoch 1/5\n",
      "1875/1875 [==============================] - 3s 1ms/step - loss: 0.2985 - accuracy: 0.9139\n",
      "Epoch 2/5\n",
      "1875/1875 [==============================] - 2s 1ms/step - loss: 0.1437 - accuracy: 0.9581\n",
      "Epoch 3/5\n",
      "1875/1875 [==============================] - 2s 1ms/step - loss: 0.1079 - accuracy: 0.9673\n",
      "Epoch 4/5\n",
      "1875/1875 [==============================] - 2s 1ms/step - loss: 0.0889 - accuracy: 0.9732\n",
      "Epoch 5/5\n",
      "1875/1875 [==============================] - 2s 1ms/step - loss: 0.0741 - accuracy: 0.9766\n",
      "313/313 [==============================] - 0s 996us/step - loss: 0.0738 - accuracy: 0.9761\n"
     ]
    },
    {
     "data": {
      "text/plain": [
       "[0.07380565255880356, 0.9761000275611877]"
      ]
     },
     "execution_count": 2,
     "metadata": {},
     "output_type": "execute_result"
    }
   ],
   "source": [
    "import tensorflow as tf\n",
    "mnist = tf.keras.datasets.mnist\n",
    "\n",
    "(x_train, y_train),(x_test, y_test) = mnist.load_data()\n",
    "x_train, x_test = x_train / 255.0, x_test / 255.0\n",
    "\n",
    "model = tf.keras.models.Sequential([\n",
    "  tf.keras.layers.Flatten(input_shape=(28, 28)),\n",
    "  tf.keras.layers.Dense(128, activation='relu'),\n",
    "  tf.keras.layers.Dropout(0.2),\n",
    "  tf.keras.layers.Dense(10, activation='softmax')\n",
    "])\n",
    "\n",
    "model.compile(optimizer='adam',\n",
    "  loss='sparse_categorical_crossentropy',\n",
    "  metrics=['accuracy'])\n",
    "\n",
    "model.fit(x_train, y_train, epochs=5)\n",
    "model.evaluate(x_test, y_test)"
   ]
  },
  {
   "cell_type": "code",
   "execution_count": 4,
   "id": "e77c48b1-1bcc-4471-879e-3e62c6a7b9fd",
   "metadata": {
    "tags": []
   },
   "outputs": [
    {
     "name": "stdout",
     "output_type": "stream",
     "text": [
      "Epoch 1/5\n",
      "1875/1875 [==============================] - 9s 5ms/step - loss: 0.1487 - accuracy: 0.9542 - val_loss: 0.0445 - val_accuracy: 0.9842\n",
      "Epoch 2/5\n",
      "1875/1875 [==============================] - 8s 4ms/step - loss: 0.0524 - accuracy: 0.9842 - val_loss: 0.0329 - val_accuracy: 0.9883\n",
      "Epoch 3/5\n",
      "1875/1875 [==============================] - 9s 5ms/step - loss: 0.0370 - accuracy: 0.9880 - val_loss: 0.0292 - val_accuracy: 0.9914\n",
      "Epoch 4/5\n",
      "1875/1875 [==============================] - 8s 4ms/step - loss: 0.0279 - accuracy: 0.9917 - val_loss: 0.0297 - val_accuracy: 0.9902\n",
      "Epoch 5/5\n",
      "1875/1875 [==============================] - 9s 5ms/step - loss: 0.0229 - accuracy: 0.9924 - val_loss: 0.0273 - val_accuracy: 0.9908\n",
      "313/313 [==============================] - 1s 2ms/step - loss: 0.0273 - accuracy: 0.9908\n"
     ]
    },
    {
     "data": {
      "text/plain": [
       "[0.02733074128627777, 0.9908000230789185]"
      ]
     },
     "execution_count": 4,
     "metadata": {},
     "output_type": "execute_result"
    }
   ],
   "source": [
    "import tensorflow as tf\n",
    "from tensorflow.keras import layers, models\n",
    "# 데이터 로드 및 전처리\n",
    "mnist = tf.keras.datasets.mnist\n",
    "(x_train, y_train), (x_test, y_test) = mnist.load_data()\n",
    "x_train, x_test = x_train[..., tf.newaxis]/255.0, x_test[..., tf.newaxis]/255.0\n",
    "\n",
    "# CNN 모델 정의\n",
    "model = models.Sequential([\n",
    "    layers.Conv2D(32, (3, 3), activation='relu', input_shape=(28, 28, 1)),\n",
    "    layers.MaxPooling2D((2, 2)),\n",
    "    layers.Conv2D(64, (3, 3), activation='relu'),\n",
    "    layers.MaxPooling2D((2, 2)),\n",
    "    layers.Flatten(),\n",
    "    layers.Dense(128, activation='relu'),\n",
    "    layers.Dropout(0.23),\n",
    "    layers.Dense(10, activation='softmax')\n",
    "])\n",
    "\n",
    "# 모델 컴파일\n",
    "model.compile(optimizer='adam',\n",
    "              loss='sparse_categorical_crossentropy',\n",
    "              metrics=['accuracy'])\n",
    "\n",
    "# 모델 훈련\n",
    "model.fit(x_train, y_train, epochs=5, validation_data=(x_test, y_test))\n",
    "\n",
    "# 모델 평가\n",
    "model.evaluate(x_test, y_test)\n"
   ]
  },
  {
   "cell_type": "code",
   "execution_count": 5,
   "id": "73d55f9c-dd54-4777-8f1a-98bf3845b07d",
   "metadata": {
    "tags": []
   },
   "outputs": [
    {
     "name": "stdout",
     "output_type": "stream",
     "text": [
      "Model: \"sequential_3\"\n",
      "_________________________________________________________________\n",
      " Layer (type)                Output Shape              Param #   \n",
      "=================================================================\n",
      " conv2d_2 (Conv2D)           (None, 26, 26, 32)        320       \n",
      "                                                                 \n",
      " max_pooling2d_2 (MaxPoolin  (None, 13, 13, 32)        0         \n",
      " g2D)                                                            \n",
      "                                                                 \n",
      " conv2d_3 (Conv2D)           (None, 11, 11, 64)        18496     \n",
      "                                                                 \n",
      " max_pooling2d_3 (MaxPoolin  (None, 5, 5, 64)          0         \n",
      " g2D)                                                            \n",
      "                                                                 \n",
      " flatten_3 (Flatten)         (None, 1600)              0         \n",
      "                                                                 \n",
      " dense_6 (Dense)             (None, 128)               204928    \n",
      "                                                                 \n",
      " dropout_3 (Dropout)         (None, 128)               0         \n",
      "                                                                 \n",
      " dense_7 (Dense)             (None, 10)                1290      \n",
      "                                                                 \n",
      "=================================================================\n",
      "Total params: 225034 (879.04 KB)\n",
      "Trainable params: 225034 (879.04 KB)\n",
      "Non-trainable params: 0 (0.00 Byte)\n",
      "_________________________________________________________________\n"
     ]
    }
   ],
   "source": [
    "model.summary()"
   ]
  },
  {
   "cell_type": "code",
   "execution_count": 18,
   "id": "47352c36-1c89-4388-9214-70998d6797cd",
   "metadata": {
    "tags": []
   },
   "outputs": [
    {
     "name": "stdout",
     "output_type": "stream",
     "text": [
      "313/313 [==============================] - 1s 2ms/step\n"
     ]
    },
    {
     "data": {
      "image/png": "[encoded data removed]",
      "text/plain": [
       "<Figure size 600x300 with 2 Axes>"
      ]
     },
     "metadata": {},
     "output_type": "display_data"
    }
   ],
   "source": [
    "import numpy as np\n",
    "import matplotlib.pyplot as plt\n",
    "\n",
    "predictions = model.predict(x_test)\n",
    "\n",
    "plt.figure(figsize=(6,3))\n",
    "\n",
    "plt.subplot(1,2,1)\n",
    "plt.imshow(x_test[3], cmap=plt.cm.binary)\n",
    "\n",
    "plt.subplot(1,2,2)\n",
    "plt.xticks(range(10))\n",
    "plt.yticks(np.arange(0, 1.1, 0.1))\n",
    "thisplot = plt.bar(range(10), predictions[3], color=\"#777777\")\n",
    "plt.ylim([0, 1])\n",
    "\n",
    "predicted_label = np.argmax(predictions[3])\n",
    "thisplot[predicted_label].set_color('red')\n",
    "\n",
    "plt.show()"
   ]
  },
  {
   "cell_type": "markdown",
   "id": "b05726db-e6b0-4e38-b5b8-733e03c2efd9",
   "metadata": {},
   "source": [
    "### 3. 예측 프로그램 작성\n",
    "\n",
    "학습된 모델을 사용하여 프로그램을 작성했습니다.  \n",
    "Canvas에 숫자를 손글씨로 쓰면 이미지를 학습된 모델을 통해 예측한 결과를 나타냅니다.  \n",
    "가장 높은 확률을 갖는 클래스의 인덱스를 가져와 예측 결과를 출력합니다."
   ]
  },
  {
   "cell_type": "code",
   "execution_count": 35,
   "id": "33e35373-883e-416b-8150-6f032333e479",
   "metadata": {
    "tags": []
   },
   "outputs": [
    {
     "name": "stdout",
     "output_type": "stream",
     "text": [
      "1/1 [==============================] - 0s 16ms/step\n",
      "1/1 [==============================] - 0s 16ms/step\n"
     ]
    }
   ],
   "source": [
    "from PIL import ImageGrab, ImageTk, Image\n",
    "import tkinter as tk\n",
    "import io\n",
    "import numpy as np\n",
    "\n",
    "def draw(event):\n",
    "    x, y = event.x, event.y\n",
    "    draw_area.create_oval(x, y, x+20, y+20, fill=\"black\") # 붓 크기, 색\n",
    "\n",
    "def convert_to_array():\n",
    "    # 캔버스 이미지를 스크린샷으로 찍기\n",
    "    screenshot = ImageGrab.grab(bbox=(draw_area.winfo_rootx(), draw_area.winfo_rooty(), \n",
    "                                     draw_area.winfo_rootx() + draw_area.winfo_width(), \n",
    "                                     draw_area.winfo_rooty() + draw_area.winfo_height()))\n",
    "    # 이미지 크기를 28x28로 조정\n",
    "    screenshot = screenshot.resize((28, 28), Image.LANCZOS)\n",
    "    # 이미지를 흑백으로 변환하여 배열로 변환\n",
    "    image_array = np.array(screenshot.convert('L'))\n",
    "    # 이미지 반전\n",
    "    image_array = 255 - image_array\n",
    "    return image_array\n",
    "\n",
    "def predict_digit():\n",
    "    image_array = convert_to_array()\n",
    "    normalized_image = image_array / 255.0\n",
    "    \n",
    "    # 이미지를 Tkinter 창에 표시\n",
    "    img = Image.fromarray(image_array.astype(np.uint8))\n",
    "    img = img.resize((image_array.shape[1]*10, image_array.shape[0]*10))\n",
    "    img = ImageTk.PhotoImage(img)\n",
    "    image_label.img = img\n",
    "    image_label.config(image=img)\n",
    "    \n",
    "    # CNN 모델에서 예측을 위해 4차원 배열로 변경 (배치 크기 1 추가)\n",
    "    input_image = np.expand_dims(normalized_image, axis=(0, -1))\n",
    "\n",
    "    # 모델을 사용하여 예측\n",
    "    prediction = model.predict(input_image)\n",
    "    \n",
    "    # 가장 높은 확률을 갖는 클래스의 인덱스 가져오기\n",
    "    predicted_class_index = np.argmax(prediction)\n",
    "\n",
    "    # 예측 결과 출력\n",
    "    text_label.config(text=f\"Predicted class: {predicted_class_index}\")\n",
    "    \n",
    "    \n",
    "def clear():\n",
    "    draw_area.delete(\"all\")\n",
    "\n",
    "\n",
    "root = tk.Tk()\n",
    "root.title(\"Handwritten Digit Recognition\")\n",
    "\n",
    "canvas_width = 280\n",
    "canvas_height = 280\n",
    "\n",
    "draw_area = tk.Canvas(root, width=canvas_width, height=canvas_height, bg=\"white\")\n",
    "draw_area.grid(row=0, column=0, padx=10, pady=10, columnspan=2)\n",
    "\n",
    "draw_area.bind(\"<B1-Motion>\", draw)\n",
    "\n",
    "image_label = tk.Label(root, image=None)\n",
    "image_label.grid(row=0, column=2, padx=10, pady=10)\n",
    "\n",
    "text_label = tk.Label(root, text=\"\")\n",
    "text_label.grid(row=1, column=2, padx=10, pady=10)\n",
    "\n",
    "predict_button = tk.Button(root, text=\"Predict Digit\", command=predict_digit)\n",
    "predict_button.grid(row=1, column=0, padx=10, pady=10, sticky=\"e\")\n",
    "\n",
    "clear_button = tk.Button(root, text=\"Clear\", command=clear)\n",
    "clear_button.grid(row=1, column=1, padx=10, pady=10, sticky=\"w\")\n",
    "\n",
    "root.mainloop()\n"
   ]
  },
  {
   "cell_type": "markdown",
   "id": "74cf4a96-f8d2-4059-9523-189f1901c884",
   "metadata": {},
   "source": [
    "![숫자손글씨](숫자손글씨.png)"
   ]
  },
  {
   "cell_type": "code",
   "execution_count": 45,
   "id": "b564ea12-473e-4506-9715-48224e44055d",
   "metadata": {
    "tags": []
   },
   "outputs": [
    {
     "name": "stdout",
     "output_type": "stream",
     "text": [
      "1/1 [==============================] - 0s 14ms/step\n"
     ]
    },
    {
     "data": {
      "text/plain": [
       "<Figure size 640x480 with 0 Axes>"
      ]
     },
     "metadata": {},
     "output_type": "display_data"
    }
   ],
   "source": [
    "from matplotlib.backends.backend_tkagg import FigureCanvasTkAgg\n",
    "\n",
    "def predict_digit():\n",
    "    image_array = convert_to_array()\n",
    "    normalized_image = image_array / 255.0\n",
    "    \n",
    "    # CNN 모델에서 예측을 위해 4차원 배열로 변경 (배치 크기 1 추가)\n",
    "    input_image = np.expand_dims(normalized_image, axis=(0, -1))\n",
    "\n",
    "    # 모델을 사용하여 예측\n",
    "    prediction = model.predict(input_image)\n",
    "    \n",
    "    # 가장 높은 확률을 갖는 클래스의 인덱스 가져오기\n",
    "    predicted_class_index = np.argmax(prediction)\n",
    "\n",
    "    # 예측 결과 출력\n",
    "    text_label.config(text=f\"Predicted class: {predicted_class_index}\")\n",
    "    \n",
    "    # 예측 시각화\n",
    "    plt.clf()  # 현재 그래프 지우기\n",
    "    \n",
    "    fig, axs = plt.subplots(1, 2, figsize=(6, 3))\n",
    "\n",
    "    axs[0].imshow(image_array, cmap=plt.cm.binary)\n",
    "    axs[0].set_title('Input Image')\n",
    "\n",
    "    axs[1].bar(range(10), prediction[0], color=\"#777777\")\n",
    "    axs[1].set_xticks(range(10))\n",
    "    axs[1].set_yticks(np.arange(0, 1.1, 0.1))\n",
    "    axs[1].set_ylim([0, 1])\n",
    "    axs[1].set_title('Prediction')\n",
    "\n",
    "    axs[1].bar(predicted_class_index, prediction[0, predicted_class_index], color='red')\n",
    "\n",
    "    # Matplotlib 그래프를 Tkinter 창에 표시\n",
    "    canvas = FigureCanvasTkAgg(fig, master=root)\n",
    "    canvas_widget = canvas.get_tk_widget()\n",
    "    canvas_widget.grid(row=0, column=2, padx=10, pady=10)\n",
    "\n",
    "    # 그래프 업데이트\n",
    "    canvas.draw()\n",
    "\n",
    "def draw(event):\n",
    "    x, y = event.x, event.y\n",
    "    draw_area.create_oval(x, y, x+20, y+20, fill=\"black\") # 붓 크기, 색\n",
    "    \n",
    "def convert_to_array():\n",
    "    # 캔버스 이미지를 스크린샷으로 찍기\n",
    "    screenshot = ImageGrab.grab(bbox=(draw_area.winfo_rootx(), draw_area.winfo_rooty(), \n",
    "                                     draw_area.winfo_rootx() + draw_area.winfo_width(), \n",
    "                                     draw_area.winfo_rooty() + draw_area.winfo_height()))\n",
    "    # 이미지 크기를 28x28로 조정\n",
    "    screenshot = screenshot.resize((28, 28), Image.LANCZOS)\n",
    "    # 이미지를 흑백으로 변환하여 배열로 변환\n",
    "    image_array = np.array(screenshot.convert('L'))\n",
    "    # 이미지 반전\n",
    "    image_array = 255 - image_array\n",
    "    return image_array\n",
    "    \n",
    "def clear():\n",
    "    draw_area.delete(\"all\")\n",
    "    \n",
    "def close_window():\n",
    "    plt.close()  # Matplotlib 창 닫기\n",
    "    if root:\n",
    "        root.destroy()  # GUI 창 닫기\n",
    "\n",
    "    \n",
    "root = tk.Tk()\n",
    "root.title(\"Handwritten Digit Recognition\")\n",
    "\n",
    "canvas_width = 280\n",
    "canvas_height = 280\n",
    "\n",
    "draw_area = tk.Canvas(root, width=canvas_width, height=canvas_height, bg=\"white\")\n",
    "draw_area.grid(row=0, column=0, padx=10, pady=10, columnspan=2)\n",
    "\n",
    "draw_area.bind(\"<B1-Motion>\", draw)\n",
    "\n",
    "text_label = tk.Label(root, text=\"\")\n",
    "text_label.grid(row=1, column=2, padx=10, pady=10)\n",
    "\n",
    "predict_button = tk.Button(root, text=\"Predict Digit\", command=predict_digit)\n",
    "predict_button.grid(row=1, column=0, padx=10, pady=10, sticky=\"e\")\n",
    "\n",
    "clear_button = tk.Button(root, text=\"Clear\", command=clear)\n",
    "clear_button.grid(row=1, column=1, padx=10, pady=10, sticky=\"w\")\n",
    "\n",
    "# GUI 창이 닫힐 때 호출될 함수 지정\n",
    "root.protocol(\"WM_DELETE_WINDOW\", close_window)\n",
    "\n",
    "root.mainloop()\n"
   ]
  },
  {
   "cell_type": "markdown",
   "id": "f92d3bb9-8776-43c7-9211-c034d26fbe0b",
   "metadata": {},
   "source": [
    "![손글씨그래프](손글씨그래프.png)"
   ]
  },
  {
   "cell_type": "markdown",
   "id": "e2a8ca8e-a781-4950-9ac9-c7577613263b",
   "metadata": {},
   "source": [
    "### 5. 결과 및 결론\n",
    "\n",
    "학습된 모델의 성능을 평가한 결과, 약 99%의 정확도를 달성했습니다.  \n",
    "이는 MNIST 데이터셋에 대해 우수한 성능을 나타냅니다.  \n",
    "레포트에서 사용한 모델은 숫자 손글씨 인식 분야에서 효과적으로 활용될 수 있으며, 미래에는 더 큰 데이터셋과 더 복잡한 모델을 사용하여 성능을 향상시킬 수 있습니다."
   ]
  }
 ],
 "metadata": {
  "kernelspec": {
   "display_name": "Python 3 (ipykernel)",
   "language": "python",
   "name": "python3"
  },
  "language_info": {
   "codemirror_mode": {
    "name": "ipython",
    "version": 3
   },
   "file_extension": ".py",
   "mimetype": "text/x-python",
   "name": "python",
   "nbconvert_exporter": "python",
   "pygments_lexer": "ipython3",
   "version": "3.11.5"
  }
 },
 "nbformat": 4,
 "nbformat_minor": 5
}
